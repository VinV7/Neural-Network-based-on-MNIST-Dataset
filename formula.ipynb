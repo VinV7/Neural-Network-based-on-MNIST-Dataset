{
 "cells": [
  {
   "cell_type": "markdown",
   "metadata": {},
   "source": [
    "## How it works Mathematically \n",
    "\n",
    "**Forward propagation**\n",
    "\n",
    "$$Z^{[1]} = W^{[1]} X + b^{[1]}$$\n",
    "$$A^{[1]} = g_{\\text{ReLU}}(Z^{[1]})$$\n",
    "$$Z^{[2]} = W^{[2]} A^{[1]} + b^{[2]}$$\n",
    "$$A^{[2]} = g_{\\text{ReLU}}(Z^{[2]})$$\n",
    "$$Z^{[3]} = W^{[3]} A^{[2]} + b^{[3]}$$\n",
    "$$A^{[3]} = g_{\\text{softmax}}(Z^{[3]})$$\n",
    "\n",
    "**Backward propagation**\n",
    "\n",
    "$$dZ^{[3]} = A^{[3]} - Y$$\n",
    "$$dW^{[3]} = \\frac{1}{m} dZ^{[3]} A^{[2]T}$$\n",
    "$$dB^{[3]} = \\frac{1}{m} \\Sigma {dZ^{[3]}}$$\n",
    "$$dZ^{[2]} = W^{[3]T} dZ^{[3]} .* g_{\\text{ReLU Derivative}} (a^{[2]})$$\n",
    "$$dW^{[2]} = \\frac{1}{m} dZ^{[2]} A^{[1]T}$$\n",
    "$$dB^{[2]} = \\frac{1}{m} \\Sigma {dZ^{[2]}}$$\n",
    "$$dZ^{[1]} = W^{[2]T} dZ^{[2]} .* g_{\\text{ReLU Derivative}} (a^{[1]})$$\n",
    "$$dW^{[1]} = \\frac{1}{m} dZ^{[1]} X^{T}$$\n",
    "$$dB^{[1]} = \\frac{1}{m} \\Sigma {dZ^{[1]}}$$\n",
    "\n",
    "**Parameter updates**\n",
    "$$W^{[3]} = W^{[3]} - \\alpha dW^{[3]}$$\n",
    "$$b^{[3]} = b^{[3]} - \\alpha db^{[3]}$$\n",
    "$$W^{[2]} = W^{[2]} - \\alpha dW^{[2]}$$\n",
    "$$b^{[2]} = b^{[2]} - \\alpha db^{[2]}$$\n",
    "$$W^{[1]} = W^{[1]} - \\alpha dW^{[1]}$$\n",
    "$$b^{[1]} = b^{[1]} - \\alpha db^{[1]}$$"
   ]
  }
 ],
 "metadata": {
  "language_info": {
   "name": "python"
  }
 },
 "nbformat": 4,
 "nbformat_minor": 2
}
